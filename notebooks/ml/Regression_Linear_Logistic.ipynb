{
 "cells": [
  {
   "cell_type": "code",
   "execution_count": 1,
   "id": "54655163",
   "metadata": {
    "_cell_guid": "b1076dfc-b9ad-4769-8c92-a6c4dae69d19",
    "_uuid": "8f2839f25d086af736a60e9eeb907d3b93b6e0e5",
    "execution": {
     "iopub.execute_input": "2024-07-21T04:39:03.915748Z",
     "iopub.status.busy": "2024-07-21T04:39:03.915313Z",
     "iopub.status.idle": "2024-07-21T04:39:05.845487Z",
     "shell.execute_reply": "2024-07-21T04:39:05.844620Z"
    },
    "papermill": {
     "duration": 1.939182,
     "end_time": "2024-07-21T04:39:05.847943",
     "exception": false,
     "start_time": "2024-07-21T04:39:03.908761",
     "status": "completed"
    },
    "tags": []
   },
   "outputs": [],
   "source": [
    "import numpy as np\n",
    "import pandas as pd\n",
    "import matplotlib.pyplot as plt\n",
    "from sklearn.model_selection import train_test_split"
   ]
  },
  {
   "cell_type": "markdown",
   "id": "156e4dc0",
   "metadata": {
    "papermill": {
     "duration": 0.004205,
     "end_time": "2024-07-21T04:39:05.857027",
     "exception": false,
     "start_time": "2024-07-21T04:39:05.852822",
     "status": "completed"
    },
    "tags": []
   },
   "source": [
    "# 1. Linear Regression"
   ]
  },
  {
   "cell_type": "markdown",
   "id": "8b9f1de6",
   "metadata": {
    "papermill": {
     "duration": 0.004186,
     "end_time": "2024-07-21T04:39:05.865689",
     "exception": false,
     "start_time": "2024-07-21T04:39:05.861503",
     "status": "completed"
    },
    "tags": []
   },
   "source": [
    "- Features (inputs), we'll call these x (or x if vectors)\n",
    "- Training examples, many x(i) for which y(i) is known \n",
    "(e.g., many movies for which we know the rating)\n",
    "- A model, a function that represents the relationship \n",
    "between x and y\n",
    "- A loss/a cost/an objective function, which tells us \n",
    "how well our model approximates the training \n",
    "examples\n",
    "- Optimization, a way of finding the parameters of \n",
    "our model that minimizes the loss function\n"
   ]
  },
  {
   "cell_type": "markdown",
   "id": "715a2c90",
   "metadata": {
    "papermill": {
     "duration": 0.004207,
     "end_time": "2024-07-21T04:39:05.874220",
     "exception": false,
     "start_time": "2024-07-21T04:39:05.870013",
     "status": "completed"
    },
    "tags": []
   },
   "source": [
    "## 1.1. Confusion Matrix"
   ]
  },
  {
   "cell_type": "code",
   "execution_count": 2,
   "id": "171992e2",
   "metadata": {
    "execution": {
     "iopub.execute_input": "2024-07-21T04:39:05.885050Z",
     "iopub.status.busy": "2024-07-21T04:39:05.884125Z",
     "iopub.status.idle": "2024-07-21T04:39:05.895792Z",
     "shell.execute_reply": "2024-07-21T04:39:05.894832Z"
    },
    "papermill": {
     "duration": 0.019475,
     "end_time": "2024-07-21T04:39:05.897954",
     "exception": false,
     "start_time": "2024-07-21T04:39:05.878479",
     "status": "completed"
    },
    "tags": []
   },
   "outputs": [],
   "source": [
    "class Metric():\n",
    "    def __init__(self,y_true, y_pred):\n",
    "        self.y_true = np.array(y_true)\n",
    "        self.y_pred = np.array(y_pred)\n",
    "    def apply(self):\n",
    "        self.accuracy_m()\n",
    "        self.recall_m()\n",
    "        self.precision_m()\n",
    "        self.f1_m()\n",
    "        print(f\"Accuracy: {self.accuracy}\\nPrecision: {self.precision}\\nRecall: {self.recall}\\nF1: {self.f1}\")\n",
    "    def accuracy_m(self):\n",
    "        correct_predictions = np.sum(np.round(np.clip(self.y_true, 0, 1)) == np.round(np.clip(self.y_pred, 0, 1)))\n",
    "        accuracy = correct_predictions / len(self.y_true)\n",
    "        self.accuracy = accuracy\n",
    "    def recall_m(self):\n",
    "        true_positives = np.sum(np.round(np.clip(self.y_true * self.y_pred, 0, 1)))\n",
    "        possible_positives = np.sum(np.round(np.clip(self.y_true, 0, 1)))\n",
    "        recall = true_positives / (possible_positives + np.finfo(float).eps)\n",
    "        self.recall = recall\n",
    "    def precision_m(self):\n",
    "        true_positives = np.sum(np.round(np.clip(self.y_true * self.y_pred, 0, 1)))\n",
    "        predicted_positives = np.sum(np.round(np.clip(self.y_pred, 0, 1)))\n",
    "        precision = true_positives / (predicted_positives + np.finfo(float).eps)\n",
    "        self.precision = precision\n",
    "    def f1_m(self):\n",
    "        f1_score = 2 * ((self.precision * self.recall) / (self.precision + self.recall + np.finfo(float).eps))\n",
    "        self.f1 = f1_score"
   ]
  },
  {
   "cell_type": "markdown",
   "id": "bafe6aba",
   "metadata": {
    "papermill": {
     "duration": 0.004667,
     "end_time": "2024-07-21T04:39:05.907543",
     "exception": false,
     "start_time": "2024-07-21T04:39:05.902876",
     "status": "completed"
    },
    "tags": []
   },
   "source": [
    "## 1.2. Feature Scaling"
   ]
  },
  {
   "cell_type": "code",
   "execution_count": 3,
   "id": "433e804b",
   "metadata": {
    "execution": {
     "iopub.execute_input": "2024-07-21T04:39:05.918330Z",
     "iopub.status.busy": "2024-07-21T04:39:05.917935Z",
     "iopub.status.idle": "2024-07-21T04:39:05.927288Z",
     "shell.execute_reply": "2024-07-21T04:39:05.926225Z"
    },
    "papermill": {
     "duration": 0.017534,
     "end_time": "2024-07-21T04:39:05.929608",
     "exception": false,
     "start_time": "2024-07-21T04:39:05.912074",
     "status": "completed"
    },
    "tags": []
   },
   "outputs": [],
   "source": [
    "class FeatureScaling:\n",
    "    def __init__(self):\n",
    "        self.class_to_index = {}\n",
    "        self.index_to_class = {}\n",
    "\n",
    "    def fit(self, y):\n",
    "        unique_classes = np.unique(y)\n",
    "        self.class_to_index = {cls: idx for idx, cls in enumerate(unique_classes)}\n",
    "        self.index_to_class = {idx: cls for idx, cls in enumerate(unique_classes)}\n",
    "\n",
    "    def transform(self, y):\n",
    "        return np.array([self.class_to_index[cls] for cls in y])\n",
    "\n",
    "    def label_fit_transform(self, y):\n",
    "        y=y.tolist()\n",
    "        self.fit(y)\n",
    "        return self.transform(y)\n",
    "\n",
    "    def label_inverse_transform(self, y):\n",
    "        y=y.tolist()\n",
    "        return np.array([self.index_to_class[idx] for idx in y])\n",
    "\n",
    "    def mean_normalize(self,df):\n",
    "        normalized_df = df.copy()\n",
    "        for column in normalized_df.columns:\n",
    "            col_mean = df[column].mean()\n",
    "            col_range = df[column].max() - df[column].min()\n",
    "            if col_range == 0:\n",
    "                col_range = 1  # Tránh chia cho 0\n",
    "            normalized_df[column] = (df[column] - col_mean) / col_range\n",
    "        return normalized_df\n"
   ]
  },
  {
   "cell_type": "markdown",
   "id": "5d9e32fd",
   "metadata": {
    "papermill": {
     "duration": 0.004219,
     "end_time": "2024-07-21T04:39:05.938462",
     "exception": false,
     "start_time": "2024-07-21T04:39:05.934243",
     "status": "completed"
    },
    "tags": []
   },
   "source": [
    "## 1.3 Linear"
   ]
  },
  {
   "cell_type": "markdown",
   "id": "ae068989",
   "metadata": {
    "papermill": {
     "duration": 0.004203,
     "end_time": "2024-07-21T04:39:05.947070",
     "exception": false,
     "start_time": "2024-07-21T04:39:05.942867",
     "status": "completed"
    },
    "tags": []
   },
   "source": [
    "### 1.3.1. Single"
   ]
  },
  {
   "cell_type": "markdown",
   "id": "4a96afb3",
   "metadata": {
    "papermill": {
     "duration": 0.004089,
     "end_time": "2024-07-21T04:39:05.955497",
     "exception": false,
     "start_time": "2024-07-21T04:39:05.951408",
     "status": "completed"
    },
    "tags": []
   },
   "source": [
    "![My Image](https://drive.google.com/uc?id=1gC0Oieo2M29W320s8oijYAiFREVup9Hi)\n",
    "![2](https://drive.google.com/uc?id=1_kWSSv7raUkVj7qcpuLnTiTo2QxudjT3)"
   ]
  },
  {
   "cell_type": "markdown",
   "id": "5fc9009b",
   "metadata": {
    "papermill": {
     "duration": 0.004203,
     "end_time": "2024-07-21T04:39:05.964087",
     "exception": false,
     "start_time": "2024-07-21T04:39:05.959884",
     "status": "completed"
    },
    "tags": []
   },
   "source": [
    "### 1.3.2 Multiple"
   ]
  },
  {
   "cell_type": "markdown",
   "id": "74d46a93",
   "metadata": {
    "papermill": {
     "duration": 0.004105,
     "end_time": "2024-07-21T04:39:05.972546",
     "exception": false,
     "start_time": "2024-07-21T04:39:05.968441",
     "status": "completed"
    },
    "tags": []
   },
   "source": [
    "![3](https://drive.google.com/uc?id=1safWBCF1d_E54TUmUF3_KPvKC46UaP9w)"
   ]
  },
  {
   "cell_type": "markdown",
   "id": "b2be8a71",
   "metadata": {
    "papermill": {
     "duration": 0.004106,
     "end_time": "2024-07-21T04:39:05.980928",
     "exception": false,
     "start_time": "2024-07-21T04:39:05.976822",
     "status": "completed"
    },
    "tags": []
   },
   "source": [
    "## 1.5 Implement"
   ]
  },
  {
   "cell_type": "code",
   "execution_count": 4,
   "id": "f1f3818d",
   "metadata": {
    "execution": {
     "iopub.execute_input": "2024-07-21T04:39:05.991646Z",
     "iopub.status.busy": "2024-07-21T04:39:05.990839Z",
     "iopub.status.idle": "2024-07-21T04:39:06.002985Z",
     "shell.execute_reply": "2024-07-21T04:39:06.001792Z"
    },
    "papermill": {
     "duration": 0.019892,
     "end_time": "2024-07-21T04:39:06.005139",
     "exception": false,
     "start_time": "2024-07-21T04:39:05.985247",
     "status": "completed"
    },
    "tags": []
   },
   "outputs": [],
   "source": [
    "class LinearRegression():\n",
    "    def __init__(self,learning_rate,epochs):\n",
    "        self.learning_rate = learning_rate\n",
    "        self.epochs=epochs\n",
    "        self.input = None\n",
    "        self.target = None\n",
    "        self.weights=None\n",
    "    def CostFunction(self):\n",
    "        #MSE\n",
    "        return (1/(2*self.num_row))* np.sum(\n",
    "            np.square(\n",
    "                np.array([self.fit_transform(self.input.iloc[index]) for index in range(self.num_row)]) - np.array(self.target)\n",
    "            )\n",
    "        )\n",
    "\n",
    "    def predict(self,x):\n",
    "        goal = x.copy()\n",
    "        goal.insert(0, 'x0', 1)\n",
    "        return  [np.sum(np.multiply(np.array(goal.iloc[index]), self.weights)) for index in range(goal.shape[0])]\n",
    "    def fit_transform(self,x):\n",
    "        return np.sum(np.multiply(np.array(x), self.weights))\n",
    "    def update_weights(self):\n",
    "        #GradientDescent\n",
    "        self.weights = [self.weights[i] - (self.learning_rate * (1/self.num_row) \n",
    "                       * np.sum(\n",
    "                           np.multiply(\n",
    "                               np.array([self.fit_transform(self.input.iloc[index]) for index in range(self.num_row)]) - np.array(self.target)\n",
    "                               ,np.array(self.input.iloc[:,i])\n",
    "                           )\n",
    "                       ))\n",
    "            for i in range(len(self.weights))\n",
    "        ]\n",
    "    def fit(self,input,target):\n",
    "        self.num_features = input.shape[1]\n",
    "        self.num_row = input.shape[0]\n",
    "        self.input = input.copy()\n",
    "        self.input.insert(0, 'x0', 1)\n",
    "        self.target = target\n",
    "        self.weights=np.ones(self.num_features + 1)\n",
    "        for i in range(self.epochs):\n",
    "            self.update_weights()\n",
    "            cost = self.CostFunction()\n",
    "            print(f\"Epoch {i+1}: Weight = {self.weights}, Learning Rate = {self.learning_rate}\\nCost = {cost}\")"
   ]
  },
  {
   "cell_type": "markdown",
   "id": "6674c8d8",
   "metadata": {
    "papermill": {
     "duration": 0.005415,
     "end_time": "2024-07-21T04:39:06.015274",
     "exception": false,
     "start_time": "2024-07-21T04:39:06.009859",
     "status": "completed"
    },
    "tags": []
   },
   "source": [
    "## 1.6. Train"
   ]
  },
  {
   "cell_type": "code",
   "execution_count": 5,
   "id": "2cdcfb83",
   "metadata": {
    "execution": {
     "iopub.execute_input": "2024-07-21T04:39:06.026254Z",
     "iopub.status.busy": "2024-07-21T04:39:06.025876Z",
     "iopub.status.idle": "2024-07-21T04:39:06.073192Z",
     "shell.execute_reply": "2024-07-21T04:39:06.072097Z"
    },
    "papermill": {
     "duration": 0.055485,
     "end_time": "2024-07-21T04:39:06.075399",
     "exception": false,
     "start_time": "2024-07-21T04:39:06.019914",
     "status": "completed"
    },
    "tags": []
   },
   "outputs": [
    {
     "data": {
      "text/html": [
       "<div>\n",
       "<style scoped>\n",
       "    .dataframe tbody tr th:only-of-type {\n",
       "        vertical-align: middle;\n",
       "    }\n",
       "\n",
       "    .dataframe tbody tr th {\n",
       "        vertical-align: top;\n",
       "    }\n",
       "\n",
       "    .dataframe thead th {\n",
       "        text-align: right;\n",
       "    }\n",
       "</style>\n",
       "<table border=\"1\" class=\"dataframe\">\n",
       "  <thead>\n",
       "    <tr style=\"text-align: right;\">\n",
       "      <th></th>\n",
       "      <th>Id</th>\n",
       "      <th>SepalLengthCm</th>\n",
       "      <th>SepalWidthCm</th>\n",
       "      <th>PetalLengthCm</th>\n",
       "      <th>PetalWidthCm</th>\n",
       "      <th>Species</th>\n",
       "    </tr>\n",
       "  </thead>\n",
       "  <tbody>\n",
       "    <tr>\n",
       "      <th>0</th>\n",
       "      <td>1</td>\n",
       "      <td>5.1</td>\n",
       "      <td>3.5</td>\n",
       "      <td>1.4</td>\n",
       "      <td>0.2</td>\n",
       "      <td>Iris-setosa</td>\n",
       "    </tr>\n",
       "    <tr>\n",
       "      <th>1</th>\n",
       "      <td>2</td>\n",
       "      <td>4.9</td>\n",
       "      <td>3.0</td>\n",
       "      <td>1.4</td>\n",
       "      <td>0.2</td>\n",
       "      <td>Iris-setosa</td>\n",
       "    </tr>\n",
       "    <tr>\n",
       "      <th>2</th>\n",
       "      <td>3</td>\n",
       "      <td>4.7</td>\n",
       "      <td>3.2</td>\n",
       "      <td>1.3</td>\n",
       "      <td>0.2</td>\n",
       "      <td>Iris-setosa</td>\n",
       "    </tr>\n",
       "    <tr>\n",
       "      <th>3</th>\n",
       "      <td>4</td>\n",
       "      <td>4.6</td>\n",
       "      <td>3.1</td>\n",
       "      <td>1.5</td>\n",
       "      <td>0.2</td>\n",
       "      <td>Iris-setosa</td>\n",
       "    </tr>\n",
       "    <tr>\n",
       "      <th>4</th>\n",
       "      <td>5</td>\n",
       "      <td>5.0</td>\n",
       "      <td>3.6</td>\n",
       "      <td>1.4</td>\n",
       "      <td>0.2</td>\n",
       "      <td>Iris-setosa</td>\n",
       "    </tr>\n",
       "  </tbody>\n",
       "</table>\n",
       "</div>"
      ],
      "text/plain": [
       "   Id  SepalLengthCm  SepalWidthCm  PetalLengthCm  PetalWidthCm      Species\n",
       "0   1            5.1           3.5            1.4           0.2  Iris-setosa\n",
       "1   2            4.9           3.0            1.4           0.2  Iris-setosa\n",
       "2   3            4.7           3.2            1.3           0.2  Iris-setosa\n",
       "3   4            4.6           3.1            1.5           0.2  Iris-setosa\n",
       "4   5            5.0           3.6            1.4           0.2  Iris-setosa"
      ]
     },
     "execution_count": 5,
     "metadata": {},
     "output_type": "execute_result"
    }
   ],
   "source": [
    "# url = 'https://raw.githubusercontent.com/nttuan8/DL_Tutorial/master/L1/data_linear.csv'\n",
    "# data = pd.read_csv(url)\n",
    "# input = np.array(data['Diện tích'])\n",
    "# target = np.array(data['Giá'])\n",
    "input_path = '/kaggle/input/iris/Iris.csv'\n",
    "df = pd.read_csv(input_path)\n",
    "df.head(5)"
   ]
  },
  {
   "cell_type": "code",
   "execution_count": 6,
   "id": "96b099fe",
   "metadata": {
    "execution": {
     "iopub.execute_input": "2024-07-21T04:39:06.087157Z",
     "iopub.status.busy": "2024-07-21T04:39:06.086397Z",
     "iopub.status.idle": "2024-07-21T04:39:06.098422Z",
     "shell.execute_reply": "2024-07-21T04:39:06.097336Z"
    },
    "papermill": {
     "duration": 0.020352,
     "end_time": "2024-07-21T04:39:06.100678",
     "exception": false,
     "start_time": "2024-07-21T04:39:06.080326",
     "status": "completed"
    },
    "tags": []
   },
   "outputs": [],
   "source": [
    "input = df[['SepalLengthCm','SepalWidthCm','PetalLengthCm','PetalWidthCm']]\n",
    "target = df['Species']\n",
    "fs = FeatureScaling()"
   ]
  },
  {
   "cell_type": "code",
   "execution_count": 7,
   "id": "a7e004e8",
   "metadata": {
    "execution": {
     "iopub.execute_input": "2024-07-21T04:39:06.112271Z",
     "iopub.status.busy": "2024-07-21T04:39:06.111889Z",
     "iopub.status.idle": "2024-07-21T04:39:06.120414Z",
     "shell.execute_reply": "2024-07-21T04:39:06.119533Z"
    },
    "papermill": {
     "duration": 0.016892,
     "end_time": "2024-07-21T04:39:06.122691",
     "exception": false,
     "start_time": "2024-07-21T04:39:06.105799",
     "status": "completed"
    },
    "tags": []
   },
   "outputs": [],
   "source": [
    "X = fs.mean_normalize(input)\n",
    "y = fs.label_fit_transform(target)"
   ]
  },
  {
   "cell_type": "code",
   "execution_count": 8,
   "id": "ff840568",
   "metadata": {
    "execution": {
     "iopub.execute_input": "2024-07-21T04:39:06.135156Z",
     "iopub.status.busy": "2024-07-21T04:39:06.134719Z",
     "iopub.status.idle": "2024-07-21T04:39:06.143802Z",
     "shell.execute_reply": "2024-07-21T04:39:06.142849Z"
    },
    "papermill": {
     "duration": 0.017471,
     "end_time": "2024-07-21T04:39:06.145891",
     "exception": false,
     "start_time": "2024-07-21T04:39:06.128420",
     "status": "completed"
    },
    "tags": []
   },
   "outputs": [],
   "source": [
    "X_train, X_test, y_train, y_test = train_test_split(X, y, test_size=0.2, random_state=42)"
   ]
  },
  {
   "cell_type": "code",
   "execution_count": 9,
   "id": "25629df2",
   "metadata": {
    "execution": {
     "iopub.execute_input": "2024-07-21T04:39:06.158084Z",
     "iopub.status.busy": "2024-07-21T04:39:06.157205Z",
     "iopub.status.idle": "2024-07-21T04:39:09.731362Z",
     "shell.execute_reply": "2024-07-21T04:39:09.730030Z"
    },
    "papermill": {
     "duration": 3.582851,
     "end_time": "2024-07-21T04:39:09.733838",
     "exception": false,
     "start_time": "2024-07-21T04:39:06.150987",
     "status": "completed"
    },
    "tags": []
   },
   "outputs": [
    {
     "name": "stdout",
     "output_type": "stream",
     "text": [
      "Epoch 1: Weight = [1.000001171767106, 0.9999978114708664, 0.9999948231554392, 1.0000015986928468, 1.0000018130278845], Learning Rate = 0.0001\n",
      "Cost = 0.07667250508589715\n",
      "Epoch 2: Weight = [1.0000023434177792, 0.9999956229324427, 0.9999896463350246, 1.0000031973569532, 1.0000036260263876], Learning Rate = 0.0001\n",
      "Cost = 0.07667211704134025\n",
      "Epoch 3: Weight = [1.0000035149520308, 0.9999934343847291, 0.9999844695387561, 1.0000047959923202, 1.0000054389955098], Learning Rate = 0.0001\n",
      "Cost = 0.07667172900358873\n",
      "Epoch 4: Weight = [1.0000046863698726, 0.9999912458277259, 0.9999792927666334, 1.000006394598948, 1.0000072519352516], Learning Rate = 0.0001\n",
      "Cost = 0.07667134097264201\n",
      "Epoch 5: Weight = [1.000005857671316, 0.9999890572614334, 0.9999741160186565, 1.0000079931768373, 1.0000090648456137], Learning Rate = 0.0001\n",
      "Cost = 0.07667095294849945\n",
      "Epoch 6: Weight = [1.0000070288563727, 0.9999868686858517, 0.999968939294825, 1.0000095917259886, 1.0000108777265966], Learning Rate = 0.0001\n",
      "Cost = 0.07667056493116035\n",
      "Epoch 7: Weight = [1.0000081999250545, 0.9999846801009814, 0.9999637625951389, 1.0000111902464026, 1.0000126905782007], Learning Rate = 0.0001\n",
      "Cost = 0.07667017692062415\n",
      "Epoch 8: Weight = [1.0000093708773727, 0.9999824915068225, 0.9999585859195977, 1.0000127887380796, 1.0000145034004269], Learning Rate = 0.0001\n",
      "Cost = 0.07666978891689014\n",
      "Epoch 9: Weight = [1.0000105417133391, 0.9999803029033755, 0.9999534092682015, 1.0000143872010205, 1.0000163161932756], Learning Rate = 0.0001\n",
      "Cost = 0.07666940091995773\n",
      "Epoch 10: Weight = [1.0000117124329653, 0.9999781142906405, 0.99994823264095, 1.0000159856352258, 1.0000181289567474], Learning Rate = 0.0001\n",
      "Cost = 0.0766690129298263\n",
      "Epoch 11: Weight = [1.0000128830362625, 0.9999759256686179, 0.9999430560378431, 1.0000175840406957, 1.0000199416908429], Learning Rate = 0.0001\n",
      "Cost = 0.07666862494649518\n",
      "Epoch 12: Weight = [1.0000140535232427, 0.999973737037308, 0.9999378794588804, 1.0000191824174312, 1.0000217543955625], Learning Rate = 0.0001\n",
      "Cost = 0.07666823696996375\n",
      "Epoch 13: Weight = [1.0000152238939173, 0.999971548396711, 0.9999327029040618, 1.0000207807654324, 1.000023567070907], Learning Rate = 0.0001\n",
      "Cost = 0.07666784900023137\n",
      "Epoch 14: Weight = [1.000016394148298, 0.9999693597468272, 0.9999275263733871, 1.0000223790847003, 1.0000253797168768], Learning Rate = 0.0001\n",
      "Cost = 0.07666746103729741\n",
      "Epoch 15: Weight = [1.0000175642863962, 0.9999671710876569, 0.9999223498668561, 1.0000239773752353, 1.0000271923334725], Learning Rate = 0.0001\n",
      "Cost = 0.0766670730811612\n",
      "Epoch 16: Weight = [1.0000187343082236, 0.9999649824192003, 0.9999171733844687, 1.000025575637038, 1.0000290049206946], Learning Rate = 0.0001\n",
      "Cost = 0.0766666851318222\n",
      "Epoch 17: Weight = [1.0000199042137918, 0.9999627937414578, 0.9999119969262246, 1.0000271738701088, 1.0000308174785437], Learning Rate = 0.0001\n",
      "Cost = 0.07666629718927964\n",
      "Epoch 18: Weight = [1.0000210740031124, 0.9999606050544296, 0.9999068204921235, 1.0000287720744485, 1.0000326300070206], Learning Rate = 0.0001\n",
      "Cost = 0.07666590925353299\n",
      "Epoch 19: Weight = [1.0000222436761967, 0.9999584163581161, 0.9999016440821654, 1.0000303702500575, 1.0000344425061256], Learning Rate = 0.0001\n",
      "Cost = 0.07666552132458157\n",
      "Epoch 20: Weight = [1.0000234132330568, 0.9999562276525176, 0.9998964676963501, 1.0000319683969363, 1.0000362549758592], Learning Rate = 0.0001\n",
      "Cost = 0.07666513340242478\n",
      "Epoch 21: Weight = [1.0000245826737038, 0.9999540389376341, 0.9998912913346772, 1.0000335665150857, 1.0000380674162224], Learning Rate = 0.0001\n",
      "Cost = 0.07666474548706192\n",
      "Epoch 22: Weight = [1.0000257519981495, 0.9999518502134662, 0.9998861149971467, 1.000035164604506, 1.0000398798272152], Learning Rate = 0.0001\n",
      "Cost = 0.07666435757849245\n",
      "Epoch 23: Weight = [1.0000269212064055, 0.9999496614800141, 0.9998809386837584, 1.000036762665198, 1.0000416922088387], Learning Rate = 0.0001\n",
      "Cost = 0.07666396967671567\n",
      "Epoch 24: Weight = [1.0000280902984833, 0.9999474727372779, 0.9998757623945119, 1.0000383606971621, 1.000043504561093], Learning Rate = 0.0001\n",
      "Cost = 0.07666358178173094\n",
      "Epoch 25: Weight = [1.0000292592743945, 0.9999452839852582, 0.9998705861294073, 1.000039958700399, 1.000045316883979], Learning Rate = 0.0001\n",
      "Cost = 0.07666319389353765\n",
      "Epoch 26: Weight = [1.0000304281341506, 0.999943095223955, 0.9998654098884441, 1.000041556674909, 1.000047129177497], Learning Rate = 0.0001\n",
      "Cost = 0.07666280601213515\n",
      "Epoch 27: Weight = [1.000031596877763, 0.9999409064533686, 0.9998602336716222, 1.000043154620693, 1.0000489414416478], Learning Rate = 0.0001\n",
      "Cost = 0.07666241813752284\n",
      "Epoch 28: Weight = [1.0000327655052437, 0.9999387176734995, 0.9998550574789415, 1.0000447525377512, 1.0000507536764318], Learning Rate = 0.0001\n",
      "Cost = 0.07666203026970006\n",
      "Epoch 29: Weight = [1.000033934016604, 0.9999365288843478, 0.9998498813104019, 1.0000463504260844, 1.0000525658818498], Learning Rate = 0.0001\n",
      "Cost = 0.07666164240866616\n",
      "Epoch 30: Weight = [1.0000351024118554, 0.9999343400859139, 0.9998447051660029, 1.0000479482856932, 1.000054378057902], Learning Rate = 0.0001\n",
      "Cost = 0.07666125455442054\n",
      "Epoch 31: Weight = [1.0000362706910098, 0.999932151278198, 0.9998395290457445, 1.000049546116578, 1.0000561902045895], Learning Rate = 0.0001\n",
      "Cost = 0.07666086670696257\n",
      "Epoch 32: Weight = [1.0000374388540783, 0.9999299624612004, 0.9998343529496264, 1.0000511439187394, 1.0000580023219123], Learning Rate = 0.0001\n",
      "Cost = 0.07666047886629156\n",
      "Epoch 33: Weight = [1.0000386069010727, 0.9999277736349214, 0.9998291768776485, 1.000052741692178, 1.0000598144098714], Learning Rate = 0.0001\n",
      "Cost = 0.07666009103240694\n",
      "Epoch 34: Weight = [1.0000397748320047, 0.9999255847993612, 0.9998240008298106, 1.0000543394368944, 1.0000616264684672], Learning Rate = 0.0001\n",
      "Cost = 0.07665970320530804\n",
      "Epoch 35: Weight = [1.0000409426468855, 0.9999233959545203, 0.9998188248061125, 1.000055937152889, 1.0000634384977003], Learning Rate = 0.0001\n",
      "Cost = 0.07665931538499429\n",
      "Epoch 36: Weight = [1.0000421103457269, 0.9999212071003988, 0.999813648806554, 1.0000575348401626, 1.0000652504975711], Learning Rate = 0.0001\n",
      "Cost = 0.07665892757146493\n",
      "Epoch 37: Weight = [1.0000432779285404, 0.9999190182369969, 0.9998084728311348, 1.0000591324987156, 1.0000670624680803], Learning Rate = 0.0001\n",
      "Cost = 0.07665853976471947\n",
      "Epoch 38: Weight = [1.0000444453953377, 0.9999168293643151, 0.9998032968798548, 1.0000607301285487, 1.0000688744092285], Learning Rate = 0.0001\n",
      "Cost = 0.07665815196475718\n",
      "Epoch 39: Weight = [1.0000456127461301, 0.9999146404823536, 0.9997981209527138, 1.0000623277296623, 1.0000706863210163], Learning Rate = 0.0001\n",
      "Cost = 0.07665776417157746\n",
      "Epoch 40: Weight = [1.0000467799809294, 0.9999124515911126, 0.9997929450497116, 1.000063925302057, 1.0000724982034441], Learning Rate = 0.0001\n",
      "Cost = 0.07665737638517968\n",
      "Epoch 41: Weight = [1.000047947099747, 0.9999102626905925, 0.999787769170848, 1.0000655228457331, 1.0000743100565126], Learning Rate = 0.0001\n",
      "Cost = 0.0766569886055632\n",
      "Epoch 42: Weight = [1.0000491141025944, 0.9999080737807935, 0.9997825933161227, 1.0000671203606917, 1.0000761218802223], Learning Rate = 0.0001\n",
      "Cost = 0.0766566008327274\n",
      "Epoch 43: Weight = [1.0000502809894833, 0.9999058848617159, 0.9997774174855357, 1.000068717846933, 1.0000779336745738], Learning Rate = 0.0001\n",
      "Cost = 0.07665621306667166\n",
      "Epoch 44: Weight = [1.0000514477604252, 0.99990369593336, 0.9997722416790866, 1.0000703153044577, 1.0000797454395676], Learning Rate = 0.0001\n",
      "Cost = 0.0766558253073953\n",
      "Epoch 45: Weight = [1.0000526144154316, 0.9999015069957261, 0.9997670658967753, 1.0000719127332662, 1.0000815571752044], Learning Rate = 0.0001\n",
      "Cost = 0.07665543755489772\n",
      "Epoch 46: Weight = [1.0000537809545142, 0.9998993180488145, 0.9997618901386016, 1.0000735101333593, 1.0000833688814847], Learning Rate = 0.0001\n",
      "Cost = 0.07665504980917828\n",
      "Epoch 47: Weight = [1.0000549473776845, 0.9998971290926254, 0.9997567144045654, 1.0000751075047376, 1.0000851805584092], Learning Rate = 0.0001\n",
      "Cost = 0.07665466207023636\n",
      "Epoch 48: Weight = [1.000056113684954, 0.9998949401271592, 0.9997515386946664, 1.0000767048474013, 1.0000869922059783], Learning Rate = 0.0001\n",
      "Cost = 0.07665427433807132\n",
      "Epoch 49: Weight = [1.000057279876334, 0.999892751152416, 0.9997463630089043, 1.0000783021613513, 1.0000888038241926], Learning Rate = 0.0001\n",
      "Cost = 0.07665388661268253\n",
      "Epoch 50: Weight = [1.0000584459518365, 0.9998905621683963, 0.999741187347279, 1.000079899446588, 1.0000906154130527], Learning Rate = 0.0001\n",
      "Cost = 0.07665349889406935\n"
     ]
    }
   ],
   "source": [
    "LRS = LinearRegression(0.0001,50)\n",
    "LRS.fit(X_train,y_train)"
   ]
  },
  {
   "cell_type": "code",
   "execution_count": 10,
   "id": "ac55e299",
   "metadata": {
    "execution": {
     "iopub.execute_input": "2024-07-21T04:39:09.747407Z",
     "iopub.status.busy": "2024-07-21T04:39:09.747000Z",
     "iopub.status.idle": "2024-07-21T04:39:09.757716Z",
     "shell.execute_reply": "2024-07-21T04:39:09.756640Z"
    },
    "papermill": {
     "duration": 0.020737,
     "end_time": "2024-07-21T04:39:09.760528",
     "exception": false,
     "start_time": "2024-07-21T04:39:09.739791",
     "status": "completed"
    },
    "tags": []
   },
   "outputs": [
    {
     "name": "stdout",
     "output_type": "stream",
     "text": [
      "Accuracy: 0.9666666666666667\n",
      "Precision: 0.9523809523809523\n",
      "Recall: 1.0\n",
      "F1: 0.9756097560975608\n"
     ]
    }
   ],
   "source": [
    "y_predict = LRS.predict(X_test)\n",
    "metric = Metric(y_test,y_predict)\n",
    "metric.apply()"
   ]
  },
  {
   "cell_type": "code",
   "execution_count": 11,
   "id": "f82956d7",
   "metadata": {
    "execution": {
     "iopub.execute_input": "2024-07-21T04:39:09.773918Z",
     "iopub.status.busy": "2024-07-21T04:39:09.773566Z",
     "iopub.status.idle": "2024-07-21T04:39:09.890073Z",
     "shell.execute_reply": "2024-07-21T04:39:09.888710Z"
    },
    "papermill": {
     "duration": 0.126053,
     "end_time": "2024-07-21T04:39:09.892499",
     "exception": false,
     "start_time": "2024-07-21T04:39:09.766446",
     "status": "completed"
    },
    "tags": []
   },
   "outputs": [
    {
     "name": "stdout",
     "output_type": "stream",
     "text": [
      "Accuracy: 1.0\n",
      "Precision: 1.0\n",
      "Recall: 1.0\n",
      "F1: 1.0\n"
     ]
    }
   ],
   "source": [
    "#Compare\n",
    "from sklearn.linear_model import LinearRegression \n",
    "regr = LinearRegression() \n",
    "regr.fit(X_train, y_train) \n",
    "y_pred = regr.predict(X_test)\n",
    "metric = Metric(y_test,y_pred)\n",
    "metric.apply()"
   ]
  }
 ],
 "metadata": {
  "kaggle": {
   "accelerator": "none",
   "dataSources": [
    {
     "datasetId": 19,
     "sourceId": 420,
     "sourceType": "datasetVersion"
    }
   ],
   "dockerImageVersionId": 30746,
   "isGpuEnabled": false,
   "isInternetEnabled": true,
   "language": "python",
   "sourceType": "notebook"
  },
  "kernelspec": {
   "display_name": "Python 3",
   "language": "python",
   "name": "python3"
  },
  "language_info": {
   "codemirror_mode": {
    "name": "ipython",
    "version": 3
   },
   "file_extension": ".py",
   "mimetype": "text/x-python",
   "name": "python",
   "nbconvert_exporter": "python",
   "pygments_lexer": "ipython3",
   "version": "3.10.13"
  },
  "papermill": {
   "default_parameters": {},
   "duration": 9.276138,
   "end_time": "2024-07-21T04:39:10.519056",
   "environment_variables": {},
   "exception": null,
   "input_path": "__notebook__.ipynb",
   "output_path": "__notebook__.ipynb",
   "parameters": {},
   "start_time": "2024-07-21T04:39:01.242918",
   "version": "2.5.0"
  }
 },
 "nbformat": 4,
 "nbformat_minor": 5
}
